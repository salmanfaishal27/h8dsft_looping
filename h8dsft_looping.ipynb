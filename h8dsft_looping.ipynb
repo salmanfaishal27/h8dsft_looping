{
 "cells": [
  {
   "cell_type": "markdown",
   "metadata": {},
   "source": [
    "# Assignment Instructions\n",
    "\n",
    "- Buatlah sebuah list dengan value berupa:\n",
    "\n",
    "  ```\n",
    "  numbers = [\n",
    "  951, 402, 984, 651, 360, 69, 408, 319, 601, 485, 980, 507, 725, 547, 544, 615, 83, 165, 141, 501, 263, 617, 865, 575, 219, 390, 984, 592, 236, 105, 942, 941, 386, 462, 47, 418, 907, 344, 236, 375, 823, 566, 597, 978, 328, 615, 953, 345, 399, 162, 758, 219, 918, 237, 412, 566, 826, 248, 866, 950, 626, 949\n",
    "  ]\n",
    "  ```\n",
    "- Loop dan print semua angka genap dari list angka diatas dengan urutan yang sama.\n",
    "- Jangan mencetak angka apapun yang muncul setelah angka 918 berdasarkan posisi angka tersebut pada list diatas.\n",
    "- Tampilkan pesan Done setelah looping berakhir."
   ]
  },
  {
   "cell_type": "code",
   "execution_count": 14,
   "metadata": {},
   "outputs": [],
   "source": [
    "numbers = [\n",
    "951, 402, 984, 651, 360, 69, 408, 319, 601, 485, 980, 507, 725, 547, 544, 615, 83, 165, 141, 501, 263, 617, 865, 575, 219, 390, 984, 592, 236, 105, 942, 941, 386, 462, 47, 418, 907, 344, 236, 375, 823, 566, 597, 978, 328, 615, 953, 345, 399, 162, 758, 219, 918, 237, 412, 566, 826, 248, 866, 950, 626, 949\n",
    "  ]"
   ]
  },
  {
   "cell_type": "code",
   "execution_count": 36,
   "metadata": {},
   "outputs": [
    {
     "name": "stdout",
     "output_type": "stream",
     "text": [
      "402\n",
      "984\n",
      "360\n",
      "408\n",
      "980\n",
      "544\n",
      "390\n",
      "984\n",
      "592\n",
      "236\n",
      "942\n",
      "386\n",
      "462\n",
      "418\n",
      "344\n",
      "236\n",
      "566\n",
      "978\n",
      "328\n",
      "162\n",
      "758\n",
      "918\n",
      "Done\n"
     ]
    }
   ],
   "source": [
    "index = 0\n",
    "\n",
    "while index < len(numbers):\n",
    "    if numbers[index] %2 == 0: #mencari list genap\n",
    "        if numbers[index] == 918: #mencari list dengan value 918\n",
    "            print(numbers[index]) #memunculkan list dengan value 918\n",
    "            break\n",
    "        else:\n",
    "            print(numbers[index]) #memunculkan list genap selain 918           \n",
    "    index += 1\n",
    "print('Done')"
   ]
  }
 ],
 "metadata": {
  "kernelspec": {
   "display_name": "Python 3.10.4 64-bit",
   "language": "python",
   "name": "python3"
  },
  "language_info": {
   "codemirror_mode": {
    "name": "ipython",
    "version": 3
   },
   "file_extension": ".py",
   "mimetype": "text/x-python",
   "name": "python",
   "nbconvert_exporter": "python",
   "pygments_lexer": "ipython3",
   "version": "3.10.4"
  },
  "orig_nbformat": 4,
  "vscode": {
   "interpreter": {
    "hash": "4217bdb66c1619d3c7bf3a5f6dea8f7bd4200ce5b7b90b812037b80bad35d2ee"
   }
  }
 },
 "nbformat": 4,
 "nbformat_minor": 2
}
